{
  "nbformat": 4,
  "nbformat_minor": 0,
  "metadata": {
    "colab": {
      "provenance": [],
      "gpuType": "T4"
    },
    "kernelspec": {
      "name": "python3",
      "display_name": "Python 3"
    },
    "language_info": {
      "name": "python"
    },
    "accelerator": "GPU"
  },
  "cells": [
    {
      "cell_type": "code",
      "source": [
        "import torch\n",
        "import torch.nn as nn\n",
        "import torch.nn.functional as F\n",
        "from torchvision.utils import make_grid, save_image\n",
        "import torch.distributions as dist\n",
        "import os\n",
        "import numpy as np\n",
        "import errno\n",
        "import os\n",
        "import PIL\n",
        "from functools import reduce\n",
        "import numpy as np\n",
        "import torch\n",
        "from torch.utils.data import DataLoader\n",
        "from torchvision.datasets import FashionMNIST\n",
        "import torchvision.transforms as transforms\n",
        "import torchvision\n",
        "import matplotlib.pyplot as plt\n",
        "from tqdm import tqdm\n"
      ],
      "metadata": {
        "id": "p2s_d6XbzsMY"
      },
      "execution_count": 52,
      "outputs": []
    },
    {
      "cell_type": "code",
      "source": [
        "class View(nn.Module):\n",
        "    def __init__(self, size):\n",
        "        super(View, self).__init__()\n",
        "        self.size = size\n",
        "\n",
        "    def forward(self, tensor):\n",
        "        return tensor.view(self.size)\n",
        "\n",
        "class FashionMNISTEncoder(nn.Module):\n",
        "    def __init__(self, z_dim):\n",
        "        super().__init__()\n",
        "        hidden_dim=256\n",
        "        self.z_dim = z_dim\n",
        "        self.encoder = nn.Sequential(\n",
        "            nn.Conv2d(1, 32, 4, 2, 1),\n",
        "            nn.ReLU(True),\n",
        "            nn.Conv2d(32, 32, 4, 2, 1),\n",
        "            nn.ReLU(True),\n",
        "            nn.Conv2d(32, 64, 4, 2, 1),\n",
        "            nn.ReLU(True),\n",
        "            nn.Conv2d(64, 128, 4, 2, 1),\n",
        "            nn.ReLU(True),\n",
        "            nn.Conv2d(128, hidden_dim, 4, 1),\n",
        "            nn.ReLU(True),\n",
        "            View((-1, hidden_dim*1*1)),\n",
        "            nn.Linear(hidden_dim, z_dim*2),\n",
        "        )\n",
        "\n",
        "        self.locs = nn.Linear(hidden_dim, z_dim)\n",
        "        self.scales = nn.Linear(hidden_dim, z_dim)\n",
        "\n",
        "    def forward(self, x):\n",
        "        hidden = self.encoder(x)\n",
        "        return hidden[:, :self.z_dim], torch.clamp(F.softplus(hidden[:, self.z_dim:]), min=1e-3)\n",
        "\n",
        "\n",
        "class FashionMNISTDecoder(nn.Module):\n",
        "    def __init__(self, z_dim):\n",
        "        super().__init__()\n",
        "        hidden_dim=256\n",
        "        self.decoder = nn.Sequential(\n",
        "            nn.Linear(z_dim, hidden_dim),\n",
        "            View((-1, hidden_dim, 1, 1)),\n",
        "            nn.ReLU(True),\n",
        "            nn.ConvTranspose2d(hidden_dim, 128, 4),\n",
        "            nn.ReLU(True),\n",
        "            nn.ConvTranspose2d(128, 64, 4, 2, 1),\n",
        "            nn.ReLU(True),\n",
        "            nn.ConvTranspose2d(64, 32, 4, 2, 1),\n",
        "            nn.ReLU(True),\n",
        "            nn.ConvTranspose2d(32, 32, 4, 2, 1),\n",
        "            nn.ReLU(True),\n",
        "            nn.ConvTranspose2d(32, 1, 4, 2, 1),\n",
        "            nn.Sigmoid()\n",
        "        )\n",
        "\n",
        "\n",
        "\n",
        "    def forward(self, z):\n",
        "        return self.decoder(z)\n",
        "\n",
        "class Classifier(nn.Module):\n",
        "    def __init__(self, z_dim, classes):\n",
        "        super(Classifier, self).__init__()\n",
        "        h_dim = 500\n",
        "        self.classifier = nn.Sequential(\n",
        "            nn.Linear(z_dim, classes)\n",
        "        )\n",
        "\n",
        "    def forward(self, x):\n",
        "        return self.classifier(x)\n",
        "\n",
        "class ConditionalPrior(nn.Module):\n",
        "    def __init__(self, z_dim, classes):\n",
        "        super(ConditionalPrior, self).__init__()\n",
        "        h_dim = 500\n",
        "        self.locs = nn.Linear(classes, z_dim)\n",
        "        self.scales = nn.Linear(classes, z_dim)\n",
        "\n",
        "    def forward(self, x):\n",
        "        return self.locs(x), torch.clamp(F.softplus(self.scales(x)), min=1e-3)"
      ],
      "metadata": {
        "id": "dCrAGwbP7rIV"
      },
      "execution_count": 53,
      "outputs": []
    },
    {
      "cell_type": "markdown",
      "source": [
        "#Utility Functions"
      ],
      "metadata": {
        "id": "4JH0vmQiI-KW"
      }
    },
    {
      "cell_type": "code",
      "source": [
        "def compute_kl(locs_q, scale_q, locs_p=None, scale_p=None):\n",
        "    \"\"\"\n",
        "    Computes the KL(q||p)\n",
        "    \"\"\"\n",
        "    if locs_p is None:\n",
        "        locs_p = torch.zeros_like(locs_q)\n",
        "    if scale_p is None:\n",
        "        scale_p = torch.ones_like(scale_q)\n",
        "\n",
        "    dist_q = dist.Normal(locs_q, scale_q)\n",
        "    dist_p = dist.Normal(locs_p, scale_p)\n",
        "    return dist.kl.kl_divergence(dist_q, dist_p).sum(dim=-1)\n",
        "\n",
        "# Computes the log-likelihood of reconstructed images given the original images\n",
        "def img_log_likelihood(recon, xs):\n",
        "        return dist.Laplace(recon, torch.ones_like(recon)).log_prob(xs).sum(dim=(1,2,3))"
      ],
      "metadata": {
        "id": "6nbOiG3GJV79"
      },
      "execution_count": 54,
      "outputs": []
    },
    {
      "cell_type": "code",
      "source": [
        "class CCVAE(nn.Module):\n",
        "    \"\"\"\n",
        "    CCVAE\n",
        "    \"\"\"\n",
        "    def __init__(self, z_dim, num_classes,\n",
        "                 im_shape, use_cuda, prior_fn):\n",
        "        super(CCVAE, self).__init__()\n",
        "        self.z_dim = z_dim\n",
        "        #self.z_classify = num_classes\n",
        "        #self.z_style = z_dim - num_classes\n",
        "        self.z_classify = z_dim\n",
        "        self.z_style = 0\n",
        "        self.im_shape = im_shape\n",
        "        self.use_cuda = use_cuda\n",
        "        self.num_classes = num_classes\n",
        "        self.ones = torch.ones(1, self.z_style)\n",
        "        self.zeros = torch.zeros(1, self.z_style)\n",
        "        self.y_prior_params = FashionMNISTCached.prior_fn()\n",
        "\n",
        "        self.encoder = FashionMNISTEncoder(self.z_dim)\n",
        "        self.decoder = FashionMNISTDecoder(self.z_dim)\n",
        "        self.classifier = Classifier(z_dim=self.z_dim, classes=self.num_classes)\n",
        "        self.cond_prior = ConditionalPrior(z_dim=self.z_dim, classes=self.num_classes)\n",
        "\n",
        "        if self.use_cuda:\n",
        "            self.ones = self.ones.cuda()\n",
        "            self.zeros = self.zeros.cuda()\n",
        "            self.y_prior_params = self.y_prior_params.cuda()\n",
        "            self.cuda()\n",
        "\n",
        "    def unsup(self, x):\n",
        "        bs = x.shape[0]\n",
        "        #inference\n",
        "        post_params = self.encoder(x)\n",
        "        z = dist.Normal(*post_params).rsample()\n",
        "        zc, zs = z.split([self.z_classify, self.z_style], 1)\n",
        "        qyzc = dist.Categorical(logits=self.classifier(zc))\n",
        "        y = qyzc.sample()\n",
        "        log_qy = qyzc.log_prob(y).sum(dim=-1)\n",
        "\n",
        "        # compute kl\n",
        "        y = F.one_hot(y, num_classes=self.num_classes).float()\n",
        "        locs_p_zc, scales_p_zc = self.cond_prior(y)\n",
        "        prior_params = (torch.cat([locs_p_zc, self.zeros.expand(bs, -1)], dim=1),\n",
        "                        torch.cat([scales_p_zc, self.ones.expand(bs, -1)], dim=1))\n",
        "        kl = compute_kl(*post_params, *prior_params)\n",
        "\n",
        "        #compute log probs for x and y\n",
        "        recon = self.decoder(z)\n",
        "        log_py = dist.Bernoulli(self.y_prior_params.expand(bs, -1)).log_prob(y).sum(dim=-1)\n",
        "        elbo = (img_log_likelihood(recon, x) + log_py - kl - log_qy).mean()\n",
        "        return -elbo\n",
        "\n",
        "    def sup(self, x, y):\n",
        "        bs = x.shape[0]\n",
        "        #inference\n",
        "        post_params = self.encoder(x)\n",
        "        z = dist.Normal(*post_params).rsample()\n",
        "        zc, zs = z.split([self.z_classify, self.z_style], 1)\n",
        "        qyzc = dist.Categorical(logits=self.classifier(zc))\n",
        "        log_qyzc = qyzc.log_prob(y).sum(dim=-1)\n",
        "\n",
        "        # compute kl\n",
        "        y = F.one_hot(y, num_classes=self.num_classes).float()\n",
        "        locs_p_zc, scales_p_zc = self.cond_prior(y)\n",
        "        prior_params = (torch.cat([locs_p_zc, self.zeros.expand(bs, -1)], dim=1),\n",
        "                        torch.cat([scales_p_zc, self.ones.expand(bs, -1)], dim=1))\n",
        "        #prior_params = (self.zeros.expand(bs, -1), self.ones.expand(bs, -1))\n",
        "        kl = compute_kl(*post_params, *prior_params)\n",
        "\n",
        "        #compute log probs for x and y\n",
        "        recon = self.decoder(z)\n",
        "        log_py = dist.Bernoulli(self.y_prior_params.expand(bs, -1)).log_prob(y).sum(dim=-1)\n",
        "        log_qyx = self.classifier_loss(x, y)\n",
        "        log_pxz = img_log_likelihood(recon, x)\n",
        "\n",
        "        # we only want gradients wrt to params of qyz, so stop them propogating to qzx\n",
        "        log_qyzc_ = dist.Bernoulli(logits=self.classifier(zc.detach())).log_prob(y).sum(dim=-1)\n",
        "        w = torch.exp(log_qyzc_ - log_qyx)\n",
        "        elbo = (w * (log_pxz - kl - log_qyzc) + log_py + log_qyx).mean()\n",
        "        return -elbo\n",
        "\n",
        "    def classifier_loss(self, x, y, k=100):\n",
        "        \"\"\"\n",
        "        Computes the classifier loss.\n",
        "        \"\"\"\n",
        "        zc, _ = dist.Normal(*self.encoder(x)).rsample(torch.tensor([k])).split([self.z_classify, self.z_style], -1)\n",
        "        logits = self.classifier(zc.view(-1, self.z_classify))\n",
        "        d = dist.Bernoulli(logits=logits)\n",
        "        y = y.expand(k, -1, -1).contiguous().view(-1, self.num_classes)\n",
        "        lqy_z = d.log_prob(y).view(k, x.shape[0], self.num_classes).sum(dim=-1)\n",
        "        lqy_x = torch.logsumexp(lqy_z, dim=0) - np.log(k)\n",
        "        return lqy_x\n",
        "\n",
        "    def reconstruct_img(self, x):\n",
        "        return self.decoder(dist.Normal(*self.encoder(x)).rsample())\n",
        "\n",
        "    def classifier_acc(self, x, y=None, k=1):\n",
        "        zc, _ = dist.Normal(*self.encoder(x)).rsample(torch.tensor([k])).split([self.z_classify, self.z_style], -1)\n",
        "        logits = self.classifier(zc.view(-1, self.z_classify)).view(-1, self.num_classes)\n",
        "        #y = y.expand(k, -1,-1).contiguous().view(-1, self.num_classes)\n",
        "        #y = y.expand(k, -1).contiguous()\n",
        "        preds = torch.softmax(logits, dim=1)\n",
        "        #acc = (preds.eq(y)).float().mean()\n",
        "        acc = (torch.max(preds,dim=1).indices.eq(y)).float().mean()\n",
        "        return acc\n",
        "\n",
        "    def save_models(self, path='./data'):\n",
        "        torch.save(self.encoder, os.path.join(path,'encoder.pt'))\n",
        "        torch.save(self.decoder, os.path.join(path,'decoder.pt'))\n",
        "        torch.save(self.classifier, os.path.join(path,'classifier.pt'))\n",
        "        torch.save(self.cond_prior, os.path.join(path,'cond_prior.pt'))\n",
        "\n",
        "    def accuracy(self, data_loader, *args, **kwargs):\n",
        "        acc = 0.0\n",
        "        for (x, y) in data_loader:\n",
        "            if self.use_cuda:\n",
        "                x, y = x.cuda(), y.cuda()\n",
        "            batch_acc = self.classifier_acc(x, y)\n",
        "            acc += batch_acc\n",
        "        return acc / len(data_loader)\n",
        "\n",
        "    def latent_walk(self, images, save_dir):\n",
        "        #img_1=images[0]\n",
        "        img_2=images[3]\n",
        "        img_3=images[20]\n",
        "        #img_4=images[40]\n",
        "        latent_2=dist.Normal(*self.encoder(img_2)).sample()\n",
        "        latent_3=dist.Normal(*self.encoder(img_3)).sample()\n",
        "        num_points = 8\n",
        "        interpolated_points = [torch.lerp(latent_2, latent_3, i/(num_points+1)) for i in range(1, num_points+1)]\n",
        "        img_recon=[]\n",
        "        for point in interpolated_points:\n",
        "            img_recon.append(torch.squeeze(self.decoder(point).view(-1, *self.im_shape),dim=1))\n",
        "        grid_recon = make_grid(img_recon)\n",
        "        save_image(grid_recon, os.path.join(save_dir, \"test.png\"))\n",
        "\n",
        "    def latent_traversal(self, images, save_dir):\n",
        "        # Select four images for interpolation\n",
        "        img_1 = images[0]\n",
        "        img_2 = images[9]\n",
        "        img_3 = images[11]\n",
        "        img_4 = images[41]\n",
        "\n",
        "        # Encode the selected images to obtain latent vectors\n",
        "        latent_1 = dist.Normal(*self.encoder(img_1)).sample()\n",
        "        latent_2 = dist.Normal(*self.encoder(img_2)).sample()\n",
        "        latent_3 = dist.Normal(*self.encoder(img_3)).sample()\n",
        "        latent_4 = dist.Normal(*self.encoder(img_4)).sample()\n",
        "\n",
        "        # Perform interpolation between latent vectors for all four corners\n",
        "        num_points = 8\n",
        "        interpolated_latents = []\n",
        "        for i in range(num_points):\n",
        "            for j in range(num_points):\n",
        "                alpha = i / (num_points - 1)\n",
        "                beta = j / (num_points - 1)\n",
        "\n",
        "                interpolated_latent = (\n",
        "                    (1 - alpha) * (1 - beta) * latent_1 +\n",
        "                    alpha * (1 - beta) * latent_2 +\n",
        "                    (1 - alpha) * beta * latent_3 +\n",
        "                    alpha * beta * latent_4\n",
        "                )\n",
        "                interpolated_latents.append(interpolated_latent)\n",
        "\n",
        "        # Decode interpolated latent vectors and reconstruct images\n",
        "        img_recon=[]\n",
        "        for point in interpolated_latents:\n",
        "            img_recon.append(torch.squeeze(self.decoder(point).view(-1, *self.im_shape),dim=1))\n",
        "\n",
        "        # Create a grid of reconstructed images and save it\n",
        "        grid_recon = make_grid(img_recon, nrow=num_points)\n",
        "        save_image(grid_recon, os.path.join(save_dir, \"interpolation_result_bis.png\"))"
      ],
      "metadata": {
        "id": "H1VeqL78IIbk"
      },
      "execution_count": 55,
      "outputs": []
    },
    {
      "cell_type": "code",
      "source": [
        "import errno\n",
        "import os\n",
        "import PIL\n",
        "from functools import reduce\n",
        "import numpy as np\n",
        "import torch\n",
        "from torch.utils.data import DataLoader\n",
        "from torchvision.datasets import FashionMNIST\n",
        "import torchvision.transforms as transforms\n",
        "import torchvision\n",
        "import matplotlib.pyplot as plt\n",
        "\n",
        "def split_fashionmnist(X, y, sup_frac, validation_num):\n",
        "    \"\"\"\n",
        "    splits FashionMNIST\n",
        "    \"\"\"\n",
        "\n",
        "    # validation set is the last 10,000 examples\n",
        "    X_valid = X[-validation_num:]\n",
        "    y_valid = y[-validation_num:]\n",
        "\n",
        "    X = X[0:-validation_num]\n",
        "    y = y[0:-validation_num]\n",
        "\n",
        "    if sup_frac == 0.0:\n",
        "        return None, None, X, y, X_valid, y_valid\n",
        "\n",
        "    if sup_frac == 1.0:\n",
        "        return X, y, None, None, X_valid, y_valid\n",
        "\n",
        "    split = int(sup_frac * len(X))\n",
        "    X_sup = X[0:split]\n",
        "    y_sup = y[0:split]\n",
        "    X_unsup = X[split:]\n",
        "    y_unsup = y[split:]\n",
        "\n",
        "    return X_sup, y_sup, X_unsup, y_unsup, X_valid, y_valid\n",
        "\n",
        "classes = 10\n",
        "\n",
        "FashionMNIST_classes = ('T-shirt', 'Trouser', 'Pullover', 'Dress', 'Coat','Sandal', 'Shirt', 'Sneaker', 'Bag', 'Ankle_Boot')\n",
        "\n",
        "def custom_transform(x):\n",
        "    return x.float() / 255\n",
        "\n",
        "class FashionMNISTCached(FashionMNIST):\n",
        "    # static class variables for caching training data\n",
        "    classes = 10\n",
        "\n",
        "    train_data_sup, train_labels_sup = None, None\n",
        "    train_data_unsup, train_labels_unsup = None, None\n",
        "    train_data, test_labels = None, None\n",
        "    prior = torch.ones(1, classes) / classes\n",
        "    fixed_imgs = None\n",
        "    fixed_imgs_targets = None\n",
        "    validation_size = 20000\n",
        "    data_valid, labels_valid = None, None\n",
        "    shape = (1, 64, 64)\n",
        "\n",
        "    def prior_fn():\n",
        "        return FashionMNISTCached.prior\n",
        "\n",
        "    def clear_cache():\n",
        "        FashionMNISTCached.train_data, FashionMNISTCached.test_labels = None, None\n",
        "\n",
        "    def __init__(self, mode, sup_frac=None, *args, **kwargs):\n",
        "        super(FashionMNISTCached, self).__init__(train=True if mode in [\"sup\", \"unsup\", \"valid\"] else 'test', *args, **kwargs)\n",
        "        self.sub_label_inds = [i for i in range(classes)]\n",
        "        self.mode = mode\n",
        "\n",
        "        # self.transform = lambda x: (x/255).view(-1)\n",
        "        self.transform = transforms.Compose([\n",
        "                transforms.Resize(64),\n",
        "                transforms.Lambda(custom_transform)\n",
        "            ])\n",
        "\n",
        "        assert mode in [\"sup\", \"unsup\", \"test\", \"valid\"], \"invalid train/test option values\"\n",
        "\n",
        "        if mode in [\"sup\", \"unsup\", \"valid\"]:\n",
        "\n",
        "            if FashionMNISTCached.train_data is None:\n",
        "                print(\"Splitting Dataset\")\n",
        "\n",
        "                FashionMNISTCached.train_data = self.data\n",
        "                FashionMNISTCached.train_targets = self.targets\n",
        "\n",
        "                FashionMNISTCached.train_data_sup, FashionMNISTCached.train_labels_sup, \\\n",
        "                    FashionMNISTCached.train_data_unsup, FashionMNISTCached.train_labels_unsup, \\\n",
        "                    FashionMNISTCached.data_valid, FashionMNISTCached.labels_valid = \\\n",
        "                    split_fashionmnist(FashionMNISTCached.train_data, FashionMNISTCached.train_targets,\n",
        "                                 sup_frac, FashionMNISTCached.validation_size)\n",
        "\n",
        "            if mode == \"sup\":\n",
        "                self.data, self.targets = FashionMNISTCached.train_data_sup, FashionMNISTCached.train_labels_sup\n",
        "                FashionMNISTCached.prior = torch.mean(torch.nn.functional.one_hot(self.targets).float(), dim=0)\n",
        "            elif mode == \"unsup\":\n",
        "                self.data = FashionMNISTCached.train_data_unsup\n",
        "                # making sure that the unsupervised labels are not available to inference\n",
        "                self.targets = FashionMNISTCached.train_labels_unsup * np.nan\n",
        "            else:\n",
        "                self.data, self.targets = FashionMNISTCached.data_valid, FashionMNISTCached.labels_valid\n",
        "\n",
        "        else:\n",
        "            self.data = self.data\n",
        "            self.targets = self.targets\n",
        "\n",
        "        # create a batch of fixed images\n",
        "        if FashionMNISTCached.fixed_imgs is None:\n",
        "            temp = []\n",
        "            for i in range(64):\n",
        "                temp.append(self.transform(self.data[i, None, :, :]))\n",
        "            FashionMNISTCached.fixed_imgs = torch.stack(temp, dim=0)\n",
        "                #temp.append([self.transform(self.data[i, None,:,:]),self.targets[i]])\n",
        "            #FashionMNISTCached.fixed_imgs = temp\n",
        "\n",
        "        if FashionMNISTCached.fixed_imgs_targets is None:\n",
        "            temp = []\n",
        "            for i in range(64):\n",
        "                temp.append([self.transform(self.data[i, None,:,:]),self.targets[i]])\n",
        "            FashionMNISTCached.fixed_imgs_targets = temp\n",
        "\n",
        "    def __getitem__(self, index):\n",
        "\n",
        "        X = self.transform(self.data[index, None,:,:])\n",
        "\n",
        "        target = self.targets[index]\n",
        "\n",
        "        return X, target\n",
        "\n",
        "    def __len__(self):\n",
        "        return len(self.data)\n",
        "\n",
        "\n",
        "def setup_data_loaders(use_cuda, batch_size, sup_frac=1.0, root=None, cache_data=False, **kwargs):\n",
        "    \"\"\"\n",
        "        helper function for setting up pytorch data loaders for a semi-supervised dataset\n",
        "    :param use_cuda: use GPU(s) for training\n",
        "    :param batch_size: size of a batch of data to output when iterating over the data loaders\n",
        "    :param sup_frac: fraction of supervised data examples\n",
        "    :param cache_data: saves dataset to memory, prevents reading from file every time\n",
        "    :param kwargs: other params for the pytorch data loader\n",
        "    :return: three data loaders: (supervised data for training, un-supervised data for training,\n",
        "                                  supervised data for testing)\n",
        "    \"\"\"\n",
        "\n",
        "    if root is None:\n",
        "        root = get_data_directory(__file__)\n",
        "    if 'num_workers' not in kwargs:\n",
        "        kwargs = {'num_workers': 2, 'pin_memory': True}\n",
        "    cached_data = {}\n",
        "    loaders = {}\n",
        "\n",
        "    #clear previous cache\n",
        "    FashionMNISTCached.clear_cache()\n",
        "\n",
        "    if sup_frac == 0.0:\n",
        "        modes = [\"unsup\", \"test\"]\n",
        "    elif sup_frac == 1.0:\n",
        "        modes = [\"sup\", \"test\", \"valid\"]\n",
        "    else:\n",
        "        modes = [\"unsup\", \"test\", \"sup\", \"valid\"]\n",
        "\n",
        "    for mode in modes:\n",
        "        cached_data[mode] = FashionMNISTCached(root=root, mode=mode, download=True, sup_frac=sup_frac)\n",
        "        loaders[mode] = DataLoader(cached_data[mode], batch_size=batch_size, shuffle=True, **kwargs)\n",
        "    return loaders"
      ],
      "metadata": {
        "id": "12VTy-1qjXe0"
      },
      "execution_count": 56,
      "outputs": []
    },
    {
      "cell_type": "code",
      "source": [
        "batch_size = 200\n",
        "cuda = True\n",
        "sup_frac = 0.5\n",
        "z_dim = 45\n",
        "learning_rate = 2e-4\n",
        "data_dir = './data'\n",
        "num_epochs = 5"
      ],
      "metadata": {
        "id": "lXEOvM6ims0g"
      },
      "execution_count": 70,
      "outputs": []
    },
    {
      "cell_type": "code",
      "source": [
        "def main():\n",
        "\n",
        "    im_shape = FashionMNISTCached.shape\n",
        "\n",
        "    data_loaders = setup_data_loaders(cuda,\n",
        "                                      batch_size,\n",
        "                                      cache_data=True,\n",
        "                                      sup_frac=sup_frac,\n",
        "                                      root='')\n",
        "\n",
        "\n",
        "    cc_vae = CCVAE(z_dim=z_dim,\n",
        "                   num_classes=len(FashionMNIST_classes),\n",
        "                   im_shape=im_shape,\n",
        "                   use_cuda=cuda,\n",
        "                   prior_fn=data_loaders['test'].dataset.prior_fn)\n",
        "\n",
        "    optim = torch.optim.Adam(params=cc_vae.parameters(), lr=learning_rate)\n",
        "\n",
        "    # run inference for a certain number of epochs\n",
        "    for epoch in range(0, num_epochs):\n",
        "\n",
        "        # # # compute number of batches for an epoch\n",
        "        if sup_frac == 1.0: # fullt supervised\n",
        "            batches_per_epoch = len(data_loaders[\"sup\"])\n",
        "            period_sup_batches = 1\n",
        "            sup_batches = batches_per_epoch\n",
        "        elif sup_frac > 0.0: # semi-supervised\n",
        "            sup_batches = len(data_loaders[\"sup\"])\n",
        "            unsup_batches = len(data_loaders[\"unsup\"])\n",
        "            batches_per_epoch = sup_batches + unsup_batches\n",
        "            period_sup_batches = int(batches_per_epoch / sup_batches)\n",
        "        elif sup_frac == 0.0: # unsupervised\n",
        "            sup_batches = 0.0\n",
        "            batches_per_epoch = len(data_loaders[\"unsup\"])\n",
        "            period_sup_batches = np.Inf\n",
        "        else:\n",
        "            assert False, \"Data frac not correct\"\n",
        "\n",
        "        # initialize variables to store loss values\n",
        "        epoch_losses_sup = 0.0\n",
        "        epoch_losses_unsup = 0.0\n",
        "\n",
        "        # setup the iterators for training data loaders\n",
        "        if sup_frac != 0.0:\n",
        "            sup_iter = iter(data_loaders[\"sup\"])\n",
        "        if sup_frac != 1.0:\n",
        "            unsup_iter = iter(data_loaders[\"unsup\"])\n",
        "\n",
        "        # count the number of supervised batches seen in this epoch\n",
        "        ctr_sup = 0\n",
        "\n",
        "        for i in tqdm(range(batches_per_epoch)):\n",
        "            # whether this batch is supervised or not\n",
        "            is_supervised = (i % period_sup_batches == 0) and ctr_sup < sup_batches\n",
        "            # extract the corresponding batch\n",
        "            if is_supervised:\n",
        "                (xs, ys) = next(sup_iter)\n",
        "                ctr_sup += 1\n",
        "            else:\n",
        "                (xs, ys) = next(unsup_iter)\n",
        "\n",
        "            if cuda:\n",
        "                xs, ys = xs.cuda(), ys.cuda()\n",
        "\n",
        "            if is_supervised:\n",
        "                loss = cc_vae.sup(xs, ys)\n",
        "                epoch_losses_sup += loss.detach().item()\n",
        "            else:\n",
        "                loss = cc_vae.unsup(xs)\n",
        "                epoch_losses_unsup += loss.detach().item()\n",
        "\n",
        "            loss.backward()\n",
        "            optim.step()\n",
        "            optim.zero_grad()\n",
        "\n",
        "        if sup_frac != 0.0:\n",
        "            with torch.no_grad():\n",
        "                validation_accuracy = cc_vae.accuracy(data_loaders['valid'])\n",
        "        else:\n",
        "            validation_accuracy = np.nan\n",
        "\n",
        "\n",
        "        print(\"[Epoch %03d] Sup Loss %.3f, Unsup Loss %.3f, Val Acc %.3f\" %\n",
        "                (epoch, epoch_losses_sup, epoch_losses_unsup, validation_accuracy))\n",
        "    cc_vae.save_models(data_dir)\n",
        "    test_acc = cc_vae.accuracy(data_loaders['test'])\n",
        "    print(\"Test acc %.3f\" % test_acc)\n",
        "    # cc_vae.latent_traversal(img, 'data/output')\n",
        "    return\n"
      ],
      "metadata": {
        "id": "PsnJBLSKj70a"
      },
      "execution_count": 71,
      "outputs": []
    },
    {
      "cell_type": "code",
      "source": [
        "main()"
      ],
      "metadata": {
        "colab": {
          "base_uri": "https://localhost:8080/"
        },
        "id": "SzHqwyrBpZ72",
        "outputId": "5cf6a932-42d2-4f33-c72a-5047aed20985"
      },
      "execution_count": 72,
      "outputs": [
        {
          "output_type": "stream",
          "name": "stdout",
          "text": [
            "Splitting Dataset\n"
          ]
        },
        {
          "output_type": "stream",
          "name": "stderr",
          "text": [
            "100%|██████████| 200/200 [00:12<00:00, 15.60it/s]\n"
          ]
        },
        {
          "output_type": "stream",
          "name": "stdout",
          "text": [
            "[Epoch 000] Sup Loss 367340.510, Unsup Loss 367673.674, Val Acc 0.609\n"
          ]
        },
        {
          "output_type": "stream",
          "name": "stderr",
          "text": [
            "100%|██████████| 200/200 [00:12<00:00, 15.78it/s]\n"
          ]
        },
        {
          "output_type": "stream",
          "name": "stdout",
          "text": [
            "[Epoch 001] Sup Loss 365907.044, Unsup Loss 365518.672, Val Acc 0.709\n"
          ]
        },
        {
          "output_type": "stream",
          "name": "stderr",
          "text": [
            "100%|██████████| 200/200 [00:12<00:00, 15.93it/s]\n"
          ]
        },
        {
          "output_type": "stream",
          "name": "stdout",
          "text": [
            "[Epoch 002] Sup Loss 358085.906, Unsup Loss 360362.001, Val Acc 0.746\n"
          ]
        },
        {
          "output_type": "stream",
          "name": "stderr",
          "text": [
            "100%|██████████| 200/200 [00:12<00:00, 15.81it/s]\n"
          ]
        },
        {
          "output_type": "stream",
          "name": "stdout",
          "text": [
            "[Epoch 003] Sup Loss 354517.341, Unsup Loss 358082.648, Val Acc 0.763\n"
          ]
        },
        {
          "output_type": "stream",
          "name": "stderr",
          "text": [
            "100%|██████████| 200/200 [00:11<00:00, 17.69it/s]\n"
          ]
        },
        {
          "output_type": "stream",
          "name": "stdout",
          "text": [
            "[Epoch 004] Sup Loss 358543.295, Unsup Loss 359070.273, Val Acc 0.782\n",
            "Test acc 0.783\n"
          ]
        }
      ]
    },
    {
      "cell_type": "markdown",
      "source": [
        "# Inference"
      ],
      "metadata": {
        "id": "ufqUYsgl1mG0"
      }
    },
    {
      "cell_type": "code",
      "source": [
        "im_shape = FashionMNISTCached.shape\n",
        "prior_fn = FashionMNISTCached.prior_fn()"
      ],
      "metadata": {
        "id": "2ZbuAdgu6lah"
      },
      "execution_count": 73,
      "outputs": []
    },
    {
      "cell_type": "code",
      "source": [
        "cc_vae = CCVAE(z_dim=z_dim,\n",
        "                   num_classes=len(FashionMNIST_classes),\n",
        "                   im_shape=im_shape,\n",
        "                   use_cuda=cuda,\n",
        "                   prior_fn=prior_fn)"
      ],
      "metadata": {
        "id": "gnpO0qgt24eG"
      },
      "execution_count": 74,
      "outputs": []
    },
    {
      "cell_type": "code",
      "source": [
        "encoder_path = '/content/data/encoder.pt'\n",
        "decoder_path = '/content/data/decoder.pt'\n",
        "classifier_path = '/content/data/classifier.pt'\n",
        "cond_prior_path = '/content/data/cond_prior.pt'"
      ],
      "metadata": {
        "id": "bUHPL0J52P-d"
      },
      "execution_count": 75,
      "outputs": []
    },
    {
      "cell_type": "code",
      "source": [
        "encoder_checkpoint = torch.load(encoder_path)\n",
        "decoder_checkpoint = torch.load(decoder_path)\n",
        "classifier_checkpoint = torch.load(classifier_path)\n",
        "cond_prior_checkpoint = torch.load(cond_prior_path)"
      ],
      "metadata": {
        "id": "xPUic_r-6pSI"
      },
      "execution_count": 76,
      "outputs": []
    },
    {
      "cell_type": "code",
      "source": [
        "cc_vae.encoder.load_state_dict(encoder_checkpoint.state_dict())\n",
        "cc_vae.decoder.load_state_dict(decoder_checkpoint.state_dict())\n",
        "cc_vae.classifier.load_state_dict(classifier_checkpoint.state_dict())\n",
        "cc_vae.cond_prior.load_state_dict(cond_prior_checkpoint.state_dict())"
      ],
      "metadata": {
        "colab": {
          "base_uri": "https://localhost:8080/"
        },
        "id": "tRIrxeN76s5L",
        "outputId": "49cf93a9-e3df-42f3-acb2-c8664c4b74a2"
      },
      "execution_count": 77,
      "outputs": [
        {
          "output_type": "execute_result",
          "data": {
            "text/plain": [
              "<All keys matched successfully>"
            ]
          },
          "metadata": {},
          "execution_count": 77
        }
      ]
    },
    {
      "cell_type": "code",
      "source": [
        "%%capture\n",
        "cc_vae.encoder.eval()\n",
        "cc_vae.decoder.eval()\n",
        "cc_vae.classifier.eval()\n",
        "cc_vae.cond_prior.eval()"
      ],
      "metadata": {
        "id": "cMQAJXkT2NK_"
      },
      "execution_count": 78,
      "outputs": []
    },
    {
      "cell_type": "code",
      "source": [
        "img = FashionMNISTCached.fixed_imgs\n",
        "img = img.cuda()\n",
        "reconstructed_img = cc_vae.reconstruct_img(img).view(-1, *im_shape)"
      ],
      "metadata": {
        "id": "ipfG3VsP5BP5"
      },
      "execution_count": 79,
      "outputs": []
    },
    {
      "cell_type": "code",
      "source": [
        "index = 0"
      ],
      "metadata": {
        "id": "TAbnPVJW6AoD"
      },
      "execution_count": 98,
      "outputs": []
    },
    {
      "cell_type": "code",
      "source": [
        "img_np = img[index].cpu().detach().numpy()\n",
        "reconstructed_img_np = reconstructed_img[index].cpu().detach().numpy()"
      ],
      "metadata": {
        "id": "TRurd1E-5huo"
      },
      "execution_count": 99,
      "outputs": []
    },
    {
      "cell_type": "code",
      "source": [
        "fig, axes = plt.subplots(1, 2, figsize=(8, 4))\n",
        "axes[0].imshow(img_np[0], cmap='gray')\n",
        "axes[0].set_title('Original Image')\n",
        "axes[1].imshow(reconstructed_img_np[0], cmap='gray')\n",
        "axes[1].set_title('Reconstructed Image')\n",
        "plt.show()"
      ],
      "metadata": {
        "colab": {
          "base_uri": "https://localhost:8080/",
          "height": 364
        },
        "id": "Jjwhrd7R6HEO",
        "outputId": "fb7835d9-c9fc-47a3-a80b-1c943b9090c9"
      },
      "execution_count": 100,
      "outputs": [
        {
          "output_type": "display_data",
          "data": {
            "text/plain": [
              "<Figure size 800x400 with 2 Axes>"
            ],
            "image/png": "[encoded data removed]"
          },
          "metadata": {}
        }
      ]
    },
    {
      "cell_type": "code",
      "source": [],
      "metadata": {
        "id": "4-xZBGOr935Z"
      },
      "execution_count": 45,
      "outputs": []
    }
  ]
}